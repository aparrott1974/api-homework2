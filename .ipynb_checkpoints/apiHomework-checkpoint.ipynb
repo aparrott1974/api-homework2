{
 "cells": [
  {
   "cell_type": "code",
   "execution_count": 1,
   "metadata": {},
   "outputs": [],
   "source": [
    "# api homework"
   ]
  },
  {
   "cell_type": "code",
   "execution_count": 44,
   "metadata": {},
   "outputs": [],
   "source": [
    "import pandas as pd\n",
    "import citipy as cp\n",
    "import numpy as np\n",
    "import random\n",
    "import requests\n",
    "import matplotlib.pyplot as plt\n",
    "import openweathermapy.core as owm\n",
    "import csv\n",
    "from config import api_key"
   ]
  },
  {
   "cell_type": "code",
   "execution_count": 45,
   "metadata": {},
   "outputs": [],
   "source": [
    "# get at least 500 unique city names using random coords from citypy"
   ]
  },
  {
   "cell_type": "code",
   "execution_count": 46,
   "metadata": {},
   "outputs": [
    {
     "name": "stdout",
     "output_type": "stream",
     "text": [
      "['havelock', 'port alfred', 'upernavik', 'bardiyah', 'hermanus', 'bredasdorp', 'illoqqortoormiut', 'marcona', 'longyearbyen', 'ushuaia', 'barentsburg', 'tsihombe', 'arlit', 'dikson', 'qaanaaq', 'taltal', 'belushya guba', 'albany', 'nanortalik', 'bail hongal', 'hithadhoo', 'port elizabeth', 'cape town', 'alappuzha', 'muzhi', 'ozinki', 'abu dhabi', 'arraial do cabo', 'cidreira', 'taolanaro', 'vila franca do campo', 'sedelnikovo', 'jamestown', 'deer lake', 'punta arenas', 'normandin', 'paramonga', 'suar', 'saint george', 'amderma', 'inhambane', 'pilar', 'saint-francois', 'mayumba', 'akdepe', 'tchollire', 'andenes', 'sao miguel do araguaia', 'manjacaze', 'ribeira grande']\n"
     ]
    }
   ],
   "source": [
    "from citipy import citipy\n",
    "cities = []\n",
    "\n",
    "counter = 0\n",
    "while counter < 50:  # tested and works for 1000\n",
    "    city_loc = citipy.nearest_city(random.randrange(-180,180,1),random.randrange(-90,90,1))\n",
    "    city_n = city_loc.city_name\n",
    "    if city_n not in cities:\n",
    "        cities.append(city_n) # insert teh return value into cities list\n",
    "        counter+=1\n",
    "# cities # to check output\n",
    "print(cities)\n"
   ]
  },
  {
   "cell_type": "code",
   "execution_count": 47,
   "metadata": {},
   "outputs": [],
   "source": [
    "# pass the city names to open weather to get data"
   ]
  },
  {
   "cell_type": "code",
   "execution_count": 48,
   "metadata": {},
   "outputs": [],
   "source": [
    "# settings={\"units\":\"imperial\", \"APPID\": api_key}"
   ]
  },
  {
   "cell_type": "code",
   "execution_count": 49,
   "metadata": {},
   "outputs": [],
   "source": [
    "\n",
    "# for val in cities:\n",
    "#     owm_data=owm.get_current(city,**settings)\n",
    "# owm_data\n",
    "    \n",
    "    \n",
    "#     summary = [\"name\",\"main.temp\",\"main.humidity\",\"clouds.all\",\"wind.speed\",\"coord.lat\"]\n",
    "#     coord_lat=[\"coord.lat\"]\n",
    "#     lat.append(coord_lat)\n",
    "# lat\n",
    "# city_value = [city[0] for city in cities]\n",
    "# w_data = [owm.get_current(city,**settings) for city in city_value]\n",
    "# w_data = [owm.get_current(city,**settings) for city in cities]\n",
    "    \n",
    "    "
   ]
  },
  {
   "cell_type": "code",
   "execution_count": 50,
   "metadata": {},
   "outputs": [],
   "source": [
    "# # try to get one city\n",
    "# current_weather=owm.get_current(\"Austin\", **settings)\n",
    "# print(current_weather)"
   ]
  },
  {
   "cell_type": "code",
   "execution_count": 51,
   "metadata": {},
   "outputs": [],
   "source": [
    "# summary = [\"name\",\"main.temp\",\"main.humidity\",\"clouds.all\",\"wind.speed\",\"coord.lat\"]\n",
    "# temp_lat = current_weather(*summary)\n",
    "# temp_lat"
   ]
  },
  {
   "cell_type": "code",
   "execution_count": 52,
   "metadata": {},
   "outputs": [
    {
     "data": {
      "text/plain": [
       "'http://api.openweathermap.org/data/2.5/weather?appid=2e74a7f73954be98bfdabaa924f65cd2&units=imperial&q='"
      ]
     },
     "execution_count": 52,
     "metadata": {},
     "output_type": "execute_result"
    }
   ],
   "source": [
    "units=\"imperial\"\n",
    "url=\"http://api.openweathermap.org/data/2.5/weather?\"\n",
    "# city = \"austin\" # for testing\n",
    "# query_url=f\"{url}appid={api_key}&units={units}&q=\"\n",
    "query_url = url + 'appid=' + api_key + \"&units=\" + units + \"&q=\" #+ city\n",
    "query_url"
   ]
  },
  {
   "cell_type": "code",
   "execution_count": 53,
   "metadata": {},
   "outputs": [],
   "source": [
    "lat=[]\n",
    "temp=[]\n",
    "hum=[]\n",
    "cloud=[]\n",
    "wind=[]\n"
   ]
  },
  {
   "cell_type": "code",
   "execution_count": 54,
   "metadata": {},
   "outputs": [
    {
     "name": "stdout",
     "output_type": "stream",
     "text": [
      "no station bardiyah\n",
      "no station illoqqortoormiut\n",
      "no station marcona\n",
      "no station barentsburg\n",
      "no station tsihombe\n",
      "no station belushya guba\n",
      "no station alappuzha\n",
      "no station taolanaro\n",
      "no station sedelnikovo\n",
      "no station amderma\n",
      "no station andenes\n"
     ]
    }
   ],
   "source": [
    "for city in cities:\n",
    "    response=requests.get(query_url+city).json()\n",
    "    try:\n",
    "        lat.append(response['coord']['lat'])\n",
    "        temp.append(response['main']['temp'])\n",
    "        hum.append(response['main']['humidity'])\n",
    "        cloud.append(response['clouds']['all'])\n",
    "        wind.append(response['wind']['speed'])\n",
    "    except KeyError:\n",
    "        print(\"no station \" + city)\n",
    "#         print(temp)\n",
    "#         print(hum)\n",
    "#         print(cloud)\n",
    "#         print(wind)\n"
   ]
  },
  {
   "cell_type": "code",
   "execution_count": 55,
   "metadata": {},
   "outputs": [],
   "source": [
    "# Include a print log of each city as it's being processed with the city number, city name, and requested URL.\n"
   ]
  },
  {
   "cell_type": "code",
   "execution_count": null,
   "metadata": {},
   "outputs": [],
   "source": []
  },
  {
   "cell_type": "code",
   "execution_count": 56,
   "metadata": {},
   "outputs": [],
   "source": [
    "# make scatters of these\n",
    "# Temperature (F) vs. Latitude\n",
    "# Humidity (%) vs. Latitude\n",
    "# Cloudiness (%) vs. Latitude\n",
    "# Wind Speed (mph) vs. Latitude"
   ]
  },
  {
   "cell_type": "code",
   "execution_count": 57,
   "metadata": {},
   "outputs": [
    {
     "data": {
      "text/plain": [
       "<matplotlib.collections.PathCollection at 0x2224b5d9f98>"
      ]
     },
     "execution_count": 57,
     "metadata": {},
     "output_type": "execute_result"
    },
    {
     "data": {
      "image/png": "[encoded data removed]",
      "text/plain": [
       "<matplotlib.figure.Figure at 0x2224b5385c0>"
      ]
     },
     "metadata": {},
     "output_type": "display_data"
    }
   ],
   "source": [
    "plt.scatter(lat,temp)"
   ]
  },
  {
   "cell_type": "code",
   "execution_count": null,
   "metadata": {},
   "outputs": [],
   "source": [
    "# Save both a CSV of all data retrieved and png images for each scatter plot."
   ]
  },
  {
   "cell_type": "code",
   "execution_count": null,
   "metadata": {},
   "outputs": [],
   "source": []
  },
  {
   "cell_type": "code",
   "execution_count": null,
   "metadata": {},
   "outputs": [],
   "source": []
  }
 ],
 "metadata": {
  "kernelspec": {
   "display_name": "Python [conda env:PythonData]",
   "language": "python",
   "name": "conda-env-PythonData-py"
  },
  "language_info": {
   "codemirror_mode": {
    "name": "ipython",
    "version": 3
   },
   "file_extension": ".py",
   "mimetype": "text/x-python",
   "name": "python",
   "nbconvert_exporter": "python",
   "pygments_lexer": "ipython3",
   "version": "3.6.4"
  }
 },
 "nbformat": 4,
 "nbformat_minor": 2
}
