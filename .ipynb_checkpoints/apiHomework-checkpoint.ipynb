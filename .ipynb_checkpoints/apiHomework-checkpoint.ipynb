{
 "cells": [
  {
   "cell_type": "code",
   "execution_count": 1,
   "metadata": {},
   "outputs": [],
   "source": [
    "# api homework"
   ]
  },
  {
   "cell_type": "code",
   "execution_count": 41,
   "metadata": {},
   "outputs": [],
   "source": [
    "import pandas as pd\n",
    "import citipy as cp\n",
    "import numpy as np\n",
    "import random\n",
    "import requests\n",
    "import matplotlib as plt\n",
    "import openweathermapy.core as owm\n",
    "import csv\n",
    "from config import api_key"
   ]
  },
  {
   "cell_type": "code",
   "execution_count": 42,
   "metadata": {},
   "outputs": [],
   "source": [
    "# get at least 500 unique city names using random coords from citypy"
   ]
  },
  {
   "cell_type": "code",
   "execution_count": 43,
   "metadata": {},
   "outputs": [
    {
     "name": "stdout",
     "output_type": "stream",
     "text": [
      "['illoqqortoormiut', 'belushya guba', 'mar del plata', 'qaanaaq', 'cape town', 'calabozo', 'ushuaia', 'jamestown', 'chipata', 'chuy']\n"
     ]
    }
   ],
   "source": [
    "from citipy import citipy\n",
    "cities = []\n",
    "\n",
    "counter = 0\n",
    "while counter < 10:  # tested and works for 1000\n",
    "    city_loc = citipy.nearest_city(random.randrange(-180,180,1),random.randrange(-90,90,1))\n",
    "    city_n = city_loc.city_name\n",
    "    if city_n not in cities:\n",
    "        cities.append(city_n) # insert teh return value into cities list\n",
    "        counter+=1\n",
    "# cities # to check output\n",
    "print(cities)\n"
   ]
  },
  {
   "cell_type": "code",
   "execution_count": 44,
   "metadata": {},
   "outputs": [],
   "source": [
    "# pass the city names to open weather to get data"
   ]
  },
  {
   "cell_type": "code",
   "execution_count": 45,
   "metadata": {},
   "outputs": [],
   "source": [
    "# settings={\"units\":\"imperial\", \"APPID\": api_key}"
   ]
  },
  {
   "cell_type": "code",
   "execution_count": 46,
   "metadata": {},
   "outputs": [],
   "source": [
    "\n",
    "# for val in cities:\n",
    "#     owm_data=owm.get_current(city,**settings)\n",
    "# owm_data\n",
    "    \n",
    "    \n",
    "#     summary = [\"name\",\"main.temp\",\"main.humidity\",\"clouds.all\",\"wind.speed\",\"coord.lat\"]\n",
    "#     coord_lat=[\"coord.lat\"]\n",
    "#     lat.append(coord_lat)\n",
    "# lat\n",
    "# city_value = [city[0] for city in cities]\n",
    "# w_data = [owm.get_current(city,**settings) for city in city_value]\n",
    "# w_data = [owm.get_current(city,**settings) for city in cities]\n",
    "    \n",
    "    "
   ]
  },
  {
   "cell_type": "code",
   "execution_count": 47,
   "metadata": {},
   "outputs": [],
   "source": [
    "# # try to get one city\n",
    "# current_weather=owm.get_current(\"Austin\", **settings)\n",
    "# print(current_weather)"
   ]
  },
  {
   "cell_type": "code",
   "execution_count": 48,
   "metadata": {},
   "outputs": [],
   "source": [
    "# summary = [\"name\",\"main.temp\",\"main.humidity\",\"clouds.all\",\"wind.speed\",\"coord.lat\"]\n",
    "# temp_lat = current_weather(*summary)\n",
    "# temp_lat"
   ]
  },
  {
   "cell_type": "code",
   "execution_count": 49,
   "metadata": {},
   "outputs": [
    {
     "data": {
      "text/plain": [
       "'http://api.openweathermap.org/data/2.5/weather?appid=2e74a7f73954be98bfdabaa924f65cd2&q='"
      ]
     },
     "execution_count": 49,
     "metadata": {},
     "output_type": "execute_result"
    }
   ],
   "source": [
    "units=\"imperial\"\n",
    "url=\"http://api.openweathermap.org/data/2.5/weather?\"\n",
    "# city = \"austin\" # for testing\n",
    "# query_url=f\"{url}appid={api_key}&units={units}&q=\"\n",
    "query_url = url + 'appid=' + api_key + \"&q=\" #+ city\n",
    "query_url"
   ]
  },
  {
   "cell_type": "code",
   "execution_count": 50,
   "metadata": {},
   "outputs": [],
   "source": [
    "lat=[]\n",
    "temp=[]\n",
    "hum=[]\n",
    "cloud=[]\n",
    "wind=[]\n"
   ]
  },
  {
   "cell_type": "code",
   "execution_count": 53,
   "metadata": {},
   "outputs": [
    {
     "name": "stdout",
     "output_type": "stream",
     "text": [
      "[]\n",
      "[]\n",
      "[]\n",
      "[]\n",
      "[]\n",
      "[]\n",
      "[]\n",
      "[]\n",
      "[]\n",
      "[]\n"
     ]
    }
   ],
   "source": [
    "for city in cities:\n",
    "        try:\n",
    "            response=requests.get(query_url+city).json()\n",
    "            lat.append(response['coord']['lat'])\n",
    "            temp.append(response['main']['temp'])\n",
    "            hum.append(response['main']['humidity'])\n",
    "            cloud.append(response['clouds']['all'])\n",
    "            wind.append(response['wind']['speed'])\n",
    "        except KeyError:\n",
    "            print(lat)\n",
    "            print(temp)\n",
    "            print(hum)\n",
    "            print(cloud)\n",
    "            print(wind)\n"
   ]
  },
  {
   "cell_type": "code",
   "execution_count": null,
   "metadata": {},
   "outputs": [],
   "source": [
    "# Include a print log of each city as it's being processed with the city number, city name, and requested URL.\n"
   ]
  },
  {
   "cell_type": "code",
   "execution_count": null,
   "metadata": {},
   "outputs": [],
   "source": []
  },
  {
   "cell_type": "code",
   "execution_count": null,
   "metadata": {},
   "outputs": [],
   "source": [
    "# make scatters of these\n",
    "# Temperature (F) vs. Latitude\n",
    "# Humidity (%) vs. Latitude\n",
    "# Cloudiness (%) vs. Latitude\n",
    "# Wind Speed (mph) vs. Latitude"
   ]
  },
  {
   "cell_type": "code",
   "execution_count": null,
   "metadata": {},
   "outputs": [],
   "source": []
  },
  {
   "cell_type": "code",
   "execution_count": null,
   "metadata": {},
   "outputs": [],
   "source": [
    "# Save both a CSV of all data retrieved and png images for each scatter plot."
   ]
  },
  {
   "cell_type": "code",
   "execution_count": null,
   "metadata": {},
   "outputs": [],
   "source": []
  },
  {
   "cell_type": "code",
   "execution_count": null,
   "metadata": {},
   "outputs": [],
   "source": []
  }
 ],
 "metadata": {
  "kernelspec": {
   "display_name": "Python 3",
   "language": "python",
   "name": "python3"
  },
  "language_info": {
   "codemirror_mode": {
    "name": "ipython",
    "version": 3
   },
   "file_extension": ".py",
   "mimetype": "text/x-python",
   "name": "python",
   "nbconvert_exporter": "python",
   "pygments_lexer": "ipython3",
   "version": "3.6.4"
  }
 },
 "nbformat": 4,
 "nbformat_minor": 2
}
